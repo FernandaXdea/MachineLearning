{
  "nbformat": 4,
  "nbformat_minor": 0,
  "metadata": {
    "colab": {
      "provenance": [],
      "toc_visible": true,
      "authorship_tag": "ABX9TyMZnROwwkLWcqTfdXOVRhkp",
      "include_colab_link": true
    },
    "kernelspec": {
      "name": "python3",
      "display_name": "Python 3"
    },
    "language_info": {
      "name": "python"
    }
  },
  "cells": [
    {
      "cell_type": "markdown",
      "metadata": {
        "id": "view-in-github",
        "colab_type": "text"
      },
      "source": [
        "<a href=\"https://colab.research.google.com/github/FernandaXdea/MachineLearning/blob/main/Python_para_Machine_Learning_na_Pr%C3%A1tica.ipynb\" target=\"_parent\"><img src=\"https://colab.research.google.com/assets/colab-badge.svg\" alt=\"Open In Colab\"/></a>"
      ]
    },
    {
      "cell_type": "code",
      "execution_count": null,
      "metadata": {
        "id": "U5Y4wWqT9Sdj"
      },
      "outputs": [],
      "source": []
    },
    {
      "cell_type": "markdown",
      "source": [
        "###Utilizando a ferramenta Replit em nuvem\n",
        "[REPLIT LINK](https://replit.com/@fernandaXdea/)"
      ],
      "metadata": {
        "id": "nRasaSzwJ1w4"
      }
    },
    {
      "cell_type": "markdown",
      "source": [
        "###Tipos de variáveis para trabalhar com ML\n",
        "######**Inteiro (int):** Representa números inteiros, como 18 ou 2002.\n",
        "######**Ponto flutuante (float):** Representa números com casas decimais, como 1.75 ou 70.5.\n",
        "######**String (str):** Representa texto, como \"Fernanda\" ou \"Brasília\".\n",
        "######**Booleano (bool):**Representa valores lógicos, como True (verdadeiro) ou False (falso).\n",
        "######**Lista (list):** Armazena uma coleção ordenada e mutável de itens, como [1, 2, 3] ou [\"maçã\", \"banana\"].\n",
        "######**Tupla (tuple):**Armazena uma coleção ordenada e imutável de itens, como (10, 20) ou (\"azul\", \"vermelho\").\n",
        "######**Dicionário (dict):** Representa pares de chave-valor, como {\"nome\": \"Fernanda\", \"idade\": 18}.\n",
        "######**Conjunto (set):** Representa uma coleção de itens únicos, como {1, 2, 3} ou {\"a\", \"b\", \"c\"}.\n"
      ],
      "metadata": {
        "id": "h303NDNNNpO-"
      }
    },
    {
      "cell_type": "code",
      "source": [
        "# Inteiro\n",
        "idade = 18\n",
        "ano = int(2002)\n",
        "\n",
        "# Ponto flutuante\n",
        "altura = 1.75\n",
        "peso = float(70.5)\n",
        "\n",
        "# String\n",
        "nome = \"Fernanda\"\n",
        "cidade = str(\"Brasília\")\n",
        "\n",
        "# Booleano\n",
        "estudando = True\n",
        "trabalhando = bool(False)\n",
        "\n",
        "# Lista\n",
        "frutas = [\"maçã\", \"banana\", \"laranja\"]\n",
        "numeros = list([1, 2, 3, 4, 5])\n",
        "\n",
        "# Tupla\n",
        "coordenadas = (10, 20)\n",
        "cores = tuple((\"azul\", \"vermelho\", \"verde\"))\n",
        "\n",
        "# Dicionário\n",
        "pessoa = {\"nome\": \"Fernanda\", \"idade\": 18}\n",
        "produto = dict(nome=\"Notebook\", preco=4500)\n",
        "\n",
        "# Conjunto\n",
        "numeros_unicos = {1, 2, 3, 4}\n",
        "letras = set([\"a\", \"b\", \"c\", \"a\"])\n",
        "\n",
        "# Exibindo os tipos\n",
        "print(\"Tipos das variáveis:\")\n",
        "print(type(idade))           # <class 'int'>\n",
        "print(type(altura))          # <class 'float'>\n",
        "print(type(nome))            # <class 'str'>\n",
        "print(type(estudando))       # <class 'bool'>\n",
        "print(type(frutas))          # <class 'list'>\n",
        "print(type(coordenadas))"
      ],
      "metadata": {
        "colab": {
          "base_uri": "https://localhost:8080/"
        },
        "id": "EnO31LeSQUht",
        "outputId": "76329aac-1b97-4203-a3e7-6c9e1f5bb703"
      },
      "execution_count": 3,
      "outputs": [
        {
          "output_type": "stream",
          "name": "stdout",
          "text": [
            "Tipos das variáveis:\n",
            "<class 'int'>\n",
            "<class 'float'>\n",
            "<class 'str'>\n",
            "<class 'bool'>\n",
            "<class 'list'>\n",
            "<class 'tuple'>\n"
          ]
        }
      ]
    },
    {
      "cell_type": "markdown",
      "source": [],
      "metadata": {
        "id": "1z0qEpeTNJaW"
      }
    }
  ]
}